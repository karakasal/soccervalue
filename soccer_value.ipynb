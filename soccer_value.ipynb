{
 "cells": [
  {
   "cell_type": "code",
   "execution_count": null,
   "metadata": {},
   "outputs": [],
   "source": [
    "import pandas as pd\n",
    "data_frame = pd.read_csv(\"data.csv\")\n",
    "data_frame.shape"
   ]
  },
  {
   "cell_type": "code",
   "execution_count": null,
   "metadata": {},
   "outputs": [],
   "source": [
    "data_frame.describe()"
   ]
  },
  {
   "cell_type": "code",
   "execution_count": null,
   "metadata": {},
   "outputs": [],
   "source": [
    "df1 = pd.DataFrame(data_frame,columns=[\"Name\", \"Wage\", \"Value\"])\n",
    "def value_to_float(x):\n",
    "    if type(x) == float or type(x) == int:\n",
    "        return x\n",
    "    if 'K' in x:\n",
    "        if len(x) > 1:\n",
    "            return float(x.replace('K', '')) * 1000\n",
    "        return 1000.0\n",
    "    if 'M' in x:\n",
    "        if len(x) > 1:\n",
    "            return float(x.replace('M', '')) * 1000000\n",
    "        return 1000000.0\n",
    "    if 'B' in x:\n",
    "        return float(x.replace('B', '')) * 1000000000\n",
    "    return 0.0\n",
    "\n",
    "wage = df1[\"Wage\"].replace([\"[\\€,]\"], \"\", regex=True).apply(value_to_float) \n",
    "value = df1[\"Value\"].replace([\"[\\€,]\"], \"\", regex=True).apply(value_to_float)\n",
    "\n",
    "df1[\"Wage\"] = wage\n",
    "df1[\"Value\"] = value\n",
    "\n",
    "df1[\"difference\"] = df1[\"Value\"] - df1[\"Wage\"]\n",
    "df1.sort_values(\"difference\", ascending=False) "
   ]
  },
  {
   "cell_type": "code",
   "execution_count": null,
   "metadata": {},
   "outputs": [],
   "source": [
    "import seaborn as sns\n",
    "sns.set_theme(style=\"dark\") \n",
    "\n",
    "graph = sns.scatterplot(x=\"Wage\", y=\"Value\", data=df1) "
   ]
  },
  {
   "cell_type": "code",
   "execution_count": null,
   "metadata": {},
   "outputs": [],
   "source": [
    "from bokeh.plotting import figure,show\n",
    "from bokeh.models import HoverTool\n",
    "\n",
    "TOOLTIPS = HoverTool(tooltips=[\n",
    "    (\"index\", \"$index\"),\n",
    "    (\"(Wage,Value)\", \"(@Wage, @Value)\"),\n",
    "    (\"Name\", \"@Name\")]\n",
    ")\n",
    "\n",
    "p = figure(title=\"Soccer 2019\", x_axis_label='Wage', y_axis_label='Value', width=700, height=700, tools=[TOOLTIPS])\n",
    "p.circle('Wage', 'Value', size=10, source=df1)\n",
    "show(p)"
   ]
  }
 ],
 "metadata": {
  "kernelspec": {
   "display_name": "Python 3",
   "language": "python",
   "name": "python3"
  },
  "language_info": {
   "codemirror_mode": {
    "name": "ipython",
    "version": 3
   },
   "file_extension": ".py",
   "mimetype": "text/x-python",
   "name": "python",
   "nbconvert_exporter": "python",
   "pygments_lexer": "ipython3",
   "version": "3.12.2"
  }
 },
 "nbformat": 4,
 "nbformat_minor": 2
}
